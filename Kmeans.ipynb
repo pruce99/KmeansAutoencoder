{
  "nbformat": 4,
  "nbformat_minor": 0,
  "metadata": {
    "colab": {
      "name": "Kmeans.ipynb",
      "provenance": [],
      "collapsed_sections": [],
      "authorship_tag": "ABX9TyNK/aNpJ/DlpmO2CaC2v+Sz",
      "include_colab_link": true
    },
    "kernelspec": {
      "name": "python3",
      "display_name": "Python 3"
    },
    "language_info": {
      "name": "python"
    },
    "accelerator": "TPU"
  },
  "cells": [
    {
      "cell_type": "markdown",
      "metadata": {
        "id": "view-in-github",
        "colab_type": "text"
      },
      "source": [
        "<a href=\"https://colab.research.google.com/github/pruce99/KmeansAutoencoder/blob/main/Kmeans.ipynb\" target=\"_parent\"><img src=\"https://colab.research.google.com/assets/colab-badge.svg\" alt=\"Open In Colab\"/></a>"
      ]
    },
    {
      "cell_type": "code",
      "metadata": {
        "id": "QQGBq3S2-BNM",
        "colab": {
          "base_uri": "https://localhost:8080/"
        },
        "outputId": "607c4768-3a32-4202-ee1e-912f21976465"
      },
      "source": [
        "!pip install validclust\n"
      ],
      "execution_count": null,
      "outputs": [
        {
          "output_type": "stream",
          "name": "stdout",
          "text": [
            "Collecting validclust\n",
            "  Downloading validclust-0.1.1-py2.py3-none-any.whl (8.1 kB)\n",
            "Requirement already satisfied: numpy>=1.16.5 in /usr/local/lib/python3.7/dist-packages (from validclust) (1.19.5)\n",
            "Requirement already satisfied: seaborn in /usr/local/lib/python3.7/dist-packages (from validclust) (0.11.2)\n",
            "Requirement already satisfied: packaging in /usr/local/lib/python3.7/dist-packages (from validclust) (21.2)\n",
            "Requirement already satisfied: pandas in /usr/local/lib/python3.7/dist-packages (from validclust) (1.1.5)\n",
            "Requirement already satisfied: matplotlib in /usr/local/lib/python3.7/dist-packages (from validclust) (3.2.2)\n",
            "Requirement already satisfied: scikit-learn in /usr/local/lib/python3.7/dist-packages (from validclust) (0.22.2.post1)\n",
            "Requirement already satisfied: kiwisolver>=1.0.1 in /usr/local/lib/python3.7/dist-packages (from matplotlib->validclust) (1.3.2)\n",
            "Requirement already satisfied: pyparsing!=2.0.4,!=2.1.2,!=2.1.6,>=2.0.1 in /usr/local/lib/python3.7/dist-packages (from matplotlib->validclust) (2.4.7)\n",
            "Requirement already satisfied: python-dateutil>=2.1 in /usr/local/lib/python3.7/dist-packages (from matplotlib->validclust) (2.8.2)\n",
            "Requirement already satisfied: cycler>=0.10 in /usr/local/lib/python3.7/dist-packages (from matplotlib->validclust) (0.11.0)\n",
            "Requirement already satisfied: six>=1.5 in /usr/local/lib/python3.7/dist-packages (from python-dateutil>=2.1->matplotlib->validclust) (1.15.0)\n",
            "Requirement already satisfied: pytz>=2017.2 in /usr/local/lib/python3.7/dist-packages (from pandas->validclust) (2018.9)\n",
            "Requirement already satisfied: joblib>=0.11 in /usr/local/lib/python3.7/dist-packages (from scikit-learn->validclust) (1.1.0)\n",
            "Requirement already satisfied: scipy>=0.17.0 in /usr/local/lib/python3.7/dist-packages (from scikit-learn->validclust) (1.4.1)\n",
            "Installing collected packages: validclust\n",
            "Successfully installed validclust-0.1.1\n"
          ]
        }
      ]
    },
    {
      "cell_type": "code",
      "metadata": {
        "id": "cj9u5zbblYDa"
      },
      "source": [
        "import tensorflow as tf\n",
        "from sklearn.metrics import silhouette_score \n",
        "from sklearn.metrics import pairwise_distances \n",
        "from validclust import dunn\n",
        "import numpy as np\n",
        "import matplotlib.pyplot as plt\n",
        "from scipy.spatial import distance"
      ],
      "execution_count": null,
      "outputs": []
    },
    {
      "cell_type": "code",
      "metadata": {
        "id": "GUlqXQxx-PYh",
        "colab": {
          "base_uri": "https://localhost:8080/"
        },
        "outputId": "ee474dc5-4dfe-4b6e-99b7-c57fdf4959b3"
      },
      "source": [
        "(x_train, y_train), (x_test, y_test)  =tf.keras.datasets.cifar10.load_data()\n"
      ],
      "execution_count": null,
      "outputs": [
        {
          "output_type": "stream",
          "name": "stdout",
          "text": [
            "Downloading data from https://www.cs.toronto.edu/~kriz/cifar-10-python.tar.gz\n",
            "170500096/170498071 [==============================] - 2s 0us/step\n",
            "170508288/170498071 [==============================] - 2s 0us/step\n"
          ]
        }
      ]
    },
    {
      "cell_type": "code",
      "metadata": {
        "id": "SfrszdD0-XuP",
        "colab": {
          "base_uri": "https://localhost:8080/"
        },
        "outputId": "2665dfb9-808d-4023-ae21-135602967b52"
      },
      "source": [
        "print(x_train.shape)\n",
        "print(y_train.shape)\n",
        "print(x_test.shape)\n",
        "print(y_test.shape)"
      ],
      "execution_count": null,
      "outputs": [
        {
          "output_type": "stream",
          "name": "stdout",
          "text": [
            "(50000, 32, 32, 3)\n",
            "(50000, 1)\n",
            "(10000, 32, 32, 3)\n",
            "(10000, 1)\n"
          ]
        }
      ]
    },
    {
      "cell_type": "code",
      "metadata": {
        "id": "4_gdgCRi-6rF"
      },
      "source": [
        "x_train = x_train.reshape(50000,3072)\n",
        "x_train = x_train/255\n",
        "x_test = x_test.reshape(10000,3072)\n",
        "x_test = x_test/255\n"
      ],
      "execution_count": null,
      "outputs": []
    },
    {
      "cell_type": "code",
      "metadata": {
        "id": "37k3yk3P_LWT"
      },
      "source": [
        "Clustersize = 10\n",
        "Centroids = np.random.rand(Clustersize,3072)\n"
      ],
      "execution_count": null,
      "outputs": []
    },
    {
      "cell_type": "code",
      "metadata": {
        "id": "TqMCWksq_ZWX",
        "colab": {
          "base_uri": "https://localhost:8080/"
        },
        "outputId": "e4fb8ad4-7545-484e-e7b7-f271273b0e1c"
      },
      "source": [
        "Centroids.shape\n"
      ],
      "execution_count": null,
      "outputs": [
        {
          "output_type": "execute_result",
          "data": {
            "text/plain": [
              "(10, 3072)"
            ]
          },
          "metadata": {},
          "execution_count": 7
        }
      ]
    },
    {
      "cell_type": "code",
      "metadata": {
        "id": "5APjy8cIium_"
      },
      "source": [
        "temp = []\n",
        "newCentroids = []\n",
        "lists = [[] for _ in range(Clustersize)]\n"
      ],
      "execution_count": null,
      "outputs": []
    },
    {
      "cell_type": "code",
      "metadata": {
        "id": "lqF_ISKPdyZg",
        "colab": {
          "base_uri": "https://localhost:8080/"
        },
        "outputId": "a1d3bf60-47ee-4ed6-9027-f8ad829f0fa2"
      },
      "source": [
        "max_iterations = 100\n",
        "labels = np.zeros((x_test.shape[0]))\n",
        "labels.shape\n",
        "# labels = np.zeros((x_train.shape[0]))"
      ],
      "execution_count": null,
      "outputs": [
        {
          "output_type": "execute_result",
          "data": {
            "text/plain": [
              "(10000,)"
            ]
          },
          "metadata": {},
          "execution_count": 9
        }
      ]
    },
    {
      "cell_type": "code",
      "metadata": {
        "id": "BePjr_ubolMH",
        "colab": {
          "base_uri": "https://localhost:8080/"
        },
        "outputId": "566ccfaf-93a3-4e27-ed1e-163f8fc4113c"
      },
      "source": [
        "for l in range(0,max_iterations):\n",
        "  lists = [[] for _ in range(Clustersize)]\n",
        "  for x in range(0, x_test.shape[0]-1): # replace with x_train if you want to find the clusters of the x_train dataset\n",
        "    for y in range(0, Centroids.shape[0]): #For every datapoint in test, we find the distance from all the centroids\n",
        "      dist = distance.euclidean(x_test[x], Centroids[y]) # finds the euclidean distance the x_test datapoint and the centroids\n",
        "      temp.append(dist)\n",
        "    min_value = min(temp) #finds the minimum value of the datapoints present in temp\n",
        "    min_index = temp.index(min_value) # finds the index  where the minimum value lies in \n",
        "    temp = [] # Emptying temp array for next iteration\n",
        "    lists[min_index].append(x_test[x]) # min_index in this case will be the label\n",
        "    #We append the datapoint to list of label\n",
        "    labels[x] = min_index\n",
        "  for index, cluster in enumerate(lists):\n",
        "    t = np.asarray(cluster) #we find the mean of each cluster list\n",
        "    Centroids[index] = np.mean(t, axis=0) #The mean of each list will be the new centroids\n",
        "  if(l%10==0):\n",
        "    print(\"Iteration \",l,\" done\") # Denoting that every 10th iteration is done\n",
        "\n"
      ],
      "execution_count": null,
      "outputs": [
        {
          "output_type": "stream",
          "name": "stdout",
          "text": [
            "Iteration  0  done\n",
            "Iteration  10  done\n",
            "Iteration  20  done\n",
            "Iteration  30  done\n",
            "Iteration  40  done\n",
            "Iteration  50  done\n",
            "Iteration  60  done\n",
            "Iteration  70  done\n",
            "Iteration  80  done\n",
            "Iteration  90  done\n"
          ]
        }
      ]
    },
    {
      "cell_type": "code",
      "metadata": {
        "id": "7YHE0nmv6Ff4",
        "colab": {
          "base_uri": "https://localhost:8080/"
        },
        "outputId": "80bcf838-31d5-40bd-f6c6-69d094c01f3f"
      },
      "source": [
        "Centroids.shape"
      ],
      "execution_count": null,
      "outputs": [
        {
          "output_type": "execute_result",
          "data": {
            "text/plain": [
              "(10, 3072)"
            ]
          },
          "metadata": {},
          "execution_count": 11
        }
      ]
    },
    {
      "cell_type": "code",
      "metadata": {
        "id": "YP6DdToP6LlC",
        "colab": {
          "base_uri": "https://localhost:8080/",
          "height": 283
        },
        "outputId": "1aa6e7ae-e2c2-49d7-edc0-b961863502f2"
      },
      "source": [
        "fig, ax = plt.subplots()\n",
        "ax.imshow(lists[3][1].reshape(32,32,3))"
      ],
      "execution_count": null,
      "outputs": [
        {
          "output_type": "execute_result",
          "data": {
            "text/plain": [
              "<matplotlib.image.AxesImage at 0x7f86c4caa450>"
            ]
          },
          "metadata": {},
          "execution_count": 12
        },
        {
          "output_type": "display_data",
          "data": {
            "image/png": "[encoded data removed]",
            "text/plain": [
              "<Figure size 432x288 with 1 Axes>"
            ]
          },
          "metadata": {
            "needs_background": "light"
          }
        }
      ]
    },
    {
      "cell_type": "code",
      "metadata": {
        "id": "Dh_PnC0PS_VH"
      },
      "source": [
        "dist = pairwise_distances(x_test)"
      ],
      "execution_count": null,
      "outputs": []
    },
    {
      "cell_type": "code",
      "metadata": {
        "id": "he1t-xxEFFCF",
        "colab": {
          "base_uri": "https://localhost:8080/"
        },
        "outputId": "ebe29f95-dec2-4e8b-9a0c-2d3f2b924db1"
      },
      "source": [
        "dist.shape"
      ],
      "execution_count": null,
      "outputs": [
        {
          "output_type": "execute_result",
          "data": {
            "text/plain": [
              "(10000, 10000)"
            ]
          },
          "metadata": {},
          "execution_count": 14
        }
      ]
    },
    {
      "cell_type": "code",
      "metadata": {
        "id": "SC19484-nQw1",
        "colab": {
          "base_uri": "https://localhost:8080/"
        },
        "outputId": "c43deff5-5800-4281-d3ab-459cf1cabad5"
      },
      "source": [
        "dunn(dist, labels)"
      ],
      "execution_count": null,
      "outputs": [
        {
          "output_type": "execute_result",
          "data": {
            "text/plain": [
              "0.11426923597528559"
            ]
          },
          "metadata": {},
          "execution_count": 15
        }
      ]
    },
    {
      "cell_type": "code",
      "metadata": {
        "id": "zH2p8QmfpKuH",
        "colab": {
          "base_uri": "https://localhost:8080/"
        },
        "outputId": "189a1e21-5169-48db-9734-54bf1f32fdf2"
      },
      "source": [
        "silhouette_score(x_test, labels)"
      ],
      "execution_count": null,
      "outputs": [
        {
          "output_type": "execute_result",
          "data": {
            "text/plain": [
              "0.04862107712878789"
            ]
          },
          "metadata": {},
          "execution_count": 16
        }
      ]
    },
    {
      "cell_type": "markdown",
      "metadata": {
        "id": "2o0F3T2Dh_9o"
      },
      "source": [
        "#PART 2 USING AUTO ENCODERS ON TRAINING DATA\n"
      ]
    },
    {
      "cell_type": "code",
      "metadata": {
        "id": "WxMWPQJIAbSI"
      },
      "source": [
        "from tensorflow.keras import Input, Model\n",
        "from tensorflow.keras.layers import Dense\n",
        "from sklearn.cluster import KMeans"
      ],
      "execution_count": null,
      "outputs": []
    },
    {
      "cell_type": "code",
      "metadata": {
        "id": "tmml2lK1iSVC"
      },
      "source": [
        "# Our original dim is 3072, we encode that to 128 and the compression factor is 24\n",
        "encoding_dimension = 128  \n",
        "\n",
        "# This is our input image which is of size 3072(flattened 32,32,3)\n",
        "input_img = Input(shape=(3072,))\n",
        "\n",
        "# With the help of relu activation we get the encoded representation of the input image\n",
        "encoded_img = Dense(encoding_dimension, activation='relu')(input_img)\n",
        "\n",
        "# We get the lossy reconstruction of the image through decoding the encoded image\n",
        "decoded_img = Dense(3072, activation='sigmoid')(encoded_img)\n",
        "\n",
        "# Passing the input layer and the output layer to the model\n",
        "autoencoderModel = Model(input_img, decoded_img)\n"
      ],
      "execution_count": null,
      "outputs": []
    },
    {
      "cell_type": "code",
      "metadata": {
        "id": "NOoYxH43izY9"
      },
      "source": [
        "\n",
        "encoderModel = Model(input_img, encoded_img)\n"
      ],
      "execution_count": null,
      "outputs": []
    },
    {
      "cell_type": "code",
      "metadata": {
        "id": "_G3DN1FTi7Hs"
      },
      "source": [
        "# Since we'll pass an input encoded image of size encoding dim\n",
        "encoded_input = Input(shape=(encoding_dimension,))\n",
        "# Retrieve the last layer of the autoencoder model which has a size of 3072\n",
        "decoder_layer = autoencoderModel.layers[-1]\n",
        "# Create the decoder model with an input of shape 128\n",
        "decoderModel = Model(encoded_input, decoder_layer(encoded_input))\n"
      ],
      "execution_count": null,
      "outputs": []
    },
    {
      "cell_type": "code",
      "metadata": {
        "id": "BRlhuhKgi9g9"
      },
      "source": [
        "autoencoderModel.compile(optimizer='adam', loss='binary_crossentropy')"
      ],
      "execution_count": null,
      "outputs": []
    },
    {
      "cell_type": "code",
      "metadata": {
        "id": "Yg87F703i_uS",
        "colab": {
          "base_uri": "https://localhost:8080/"
        },
        "outputId": "ce858cd0-c23e-49fd-b372-eb36c97199cb"
      },
      "source": [
        "autoencoderModel.fit(x_train, x_train,\n",
        "                epochs=10,\n",
        "                batch_size=256,\n",
        "                shuffle=True,\n",
        "                validation_data=(x_test, x_test))"
      ],
      "execution_count": null,
      "outputs": [
        {
          "output_type": "stream",
          "name": "stdout",
          "text": [
            "Epoch 1/10\n",
            "196/196 [==============================] - 12s 55ms/step - loss: 0.6390 - val_loss: 0.6185\n",
            "Epoch 2/10\n",
            "196/196 [==============================] - 11s 56ms/step - loss: 0.6109 - val_loss: 0.6062\n",
            "Epoch 3/10\n",
            "196/196 [==============================] - 11s 55ms/step - loss: 0.6020 - val_loss: 0.5996\n",
            "Epoch 4/10\n",
            "196/196 [==============================] - 11s 55ms/step - loss: 0.5966 - val_loss: 0.5969\n",
            "Epoch 5/10\n",
            "196/196 [==============================] - 11s 54ms/step - loss: 0.5931 - val_loss: 0.5914\n",
            "Epoch 6/10\n",
            "196/196 [==============================] - 11s 55ms/step - loss: 0.5895 - val_loss: 0.5891\n",
            "Epoch 7/10\n",
            "196/196 [==============================] - 11s 55ms/step - loss: 0.5877 - val_loss: 0.5868\n",
            "Epoch 8/10\n",
            "196/196 [==============================] - 11s 54ms/step - loss: 0.5860 - val_loss: 0.5861\n",
            "Epoch 9/10\n",
            "196/196 [==============================] - 11s 54ms/step - loss: 0.5852 - val_loss: 0.5853\n",
            "Epoch 10/10\n",
            "196/196 [==============================] - 11s 54ms/step - loss: 0.5841 - val_loss: 0.5845\n"
          ]
        },
        {
          "output_type": "execute_result",
          "data": {
            "text/plain": [
              "<keras.callbacks.History at 0x7f86b85edad0>"
            ]
          },
          "metadata": {},
          "execution_count": 26
        }
      ]
    },
    {
      "cell_type": "code",
      "metadata": {
        "id": "m9uvdoTnjCTE"
      },
      "source": [
        "encodedImages = encoderModel.predict(x_train)"
      ],
      "execution_count": null,
      "outputs": []
    },
    {
      "cell_type": "code",
      "metadata": {
        "id": "dNr_YcUSp-QJ",
        "colab": {
          "base_uri": "https://localhost:8080/"
        },
        "outputId": "90721bcc-d149-4387-9f3a-5aff531738cd"
      },
      "source": [
        "encodedImages.shape"
      ],
      "execution_count": null,
      "outputs": [
        {
          "output_type": "execute_result",
          "data": {
            "text/plain": [
              "(50000, 128)"
            ]
          },
          "metadata": {},
          "execution_count": 39
        }
      ]
    },
    {
      "cell_type": "code",
      "metadata": {
        "id": "7cS9IP96sauC"
      },
      "source": [
        "newlists = [[] for _ in range(Clustersize)]"
      ],
      "execution_count": null,
      "outputs": []
    },
    {
      "cell_type": "code",
      "metadata": {
        "id": "mO287EsVjTiL"
      },
      "source": [
        "KMModel = KMeans(\n",
        "    n_clusters=10, init='random',\n",
        "    n_init=10, max_iter=300, \n",
        "    tol=1e-04, random_state=0\n",
        ")\n",
        "dataLabels = KMModel.fit_predict(encodedImages)"
      ],
      "execution_count": null,
      "outputs": []
    },
    {
      "cell_type": "code",
      "metadata": {
        "colab": {
          "base_uri": "https://localhost:8080/"
        },
        "id": "k_zZgSccu27_",
        "outputId": "fb767520-01c7-401e-8bb7-e2e5a5dce5a2"
      },
      "source": [
        "dataLabels.shape"
      ],
      "execution_count": null,
      "outputs": [
        {
          "output_type": "execute_result",
          "data": {
            "text/plain": [
              "(50000,)"
            ]
          },
          "metadata": {},
          "execution_count": 32
        }
      ]
    },
    {
      "cell_type": "code",
      "metadata": {
        "id": "LSG9G1FZvePK"
      },
      "source": [
        "decodedImages = decoderModel.predict(encodedImages)\n"
      ],
      "execution_count": null,
      "outputs": []
    },
    {
      "cell_type": "code",
      "metadata": {
        "id": "0m3vljlwtkA8"
      },
      "source": [
        "for ls in range(0, encodedImages.shape[0]-1):\n",
        "  newlists[dataLabels[ls]].append(decodedImages[ls]) "
      ],
      "execution_count": null,
      "outputs": []
    },
    {
      "cell_type": "code",
      "metadata": {
        "colab": {
          "base_uri": "https://localhost:8080/",
          "height": 283
        },
        "id": "txYg2y6sto4E",
        "outputId": "a854d343-0490-4ce3-be12-41c8279019d3"
      },
      "source": [
        "fig, ax = plt.subplots()\n",
        "ax.imshow(newlists[3][1].reshape(32,32,3))"
      ],
      "execution_count": null,
      "outputs": [
        {
          "output_type": "execute_result",
          "data": {
            "text/plain": [
              "<matplotlib.image.AxesImage at 0x7f86b85338d0>"
            ]
          },
          "metadata": {},
          "execution_count": 35
        },
        {
          "output_type": "display_data",
          "data": {
            "image/png": "[encoded data removed]",
            "text/plain": [
              "<Figure size 432x288 with 1 Axes>"
            ]
          },
          "metadata": {
            "needs_background": "light"
          }
        }
      ]
    },
    {
      "cell_type": "code",
      "metadata": {
        "id": "zXpMVB7qnbj6",
        "colab": {
          "base_uri": "https://localhost:8080/"
        },
        "outputId": "9e330a6b-a384-4b49-968e-b20e9afa68f9"
      },
      "source": [
        "silhouette_score(encodedImages,dataLabels)"
      ],
      "execution_count": null,
      "outputs": [
        {
          "output_type": "execute_result",
          "data": {
            "text/plain": [
              "0.09092586"
            ]
          },
          "metadata": {},
          "execution_count": 36
        }
      ]
    }
  ]
}